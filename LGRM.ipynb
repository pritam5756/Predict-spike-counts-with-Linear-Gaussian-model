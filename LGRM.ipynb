{
 "cells": [
  {
   "cell_type": "code",
   "execution_count": null,
   "id": "import-libraries",
   "metadata": {},
   "outputs": [],
   "source": [
    "import os\n",
    "import hashlib\n",
    "import requests\n",
    "import numpy as np\n",
    "from scipy.io import loadmat\n",
    "import matplotlib.pyplot as plt\n",
    "\n",
    "# Constants\n",
    "FNAME = \"RGCdata.mat\"\n",
    "URL = \"https://osf.io/mzujs/download\"\n",
    "EXPECTED_MD5 = \"1b2977453020bce5319f2608c94d38d0\"\n",
    "CELLNUM = 2\n",
    "KEEP_TIMEPOINTS = 20000"
   ]
  },
  {
   "cell_type": "code",
   "execution_count": null,
   "id": "download-data",
   "metadata": {},
   "outputs": [],
   "source": [
    "def download_data(fname, url, expected_md5):\n",
    "    \"\"\"Download the data file if not already present.\"\"\"\n",
    "    if not os.path.isfile(fname):\n",
    "        try:\n",
    "            response = requests.get(url)\n",
    "            response.raise_for_status()\n",
    "        except requests.ConnectionError:\n",
    "            print(\"!!! Failed to download data !!!\")\n",
    "            return False\n",
    "        else:\n",
    "            if hashlib.md5(response.content).hexdigest() != expected_md5:\n",
    "                print(\"!!! Data download appears corrupted !!!\")\n",
    "                return False\n",
    "            with open(fname, \"wb\") as fid:\n",
    "                fid.write(response.content)\n",
    "    return True"
   ]
  },
  {
   "cell_type": "code",
   "execution_count": null,
   "id": "make-design-matrix",
   "metadata": {},
   "outputs": [],
   "source": [
    "def make_design_matrix(stim, d=25):\n",
    "    \"\"\"Create time-lag design matrix from stimulus intensity vector.\"\"\"\n",
    "    padded_stim = np.concatenate([np.zeros(d - 1), stim])\n",
    "    T = len(stim)\n",
    "    X = np.zeros((T, d))\n",
    "    for t in range(T):\n",
    "        X[t] = padded_stim[t:t + d]\n",
    "    return X"
   ]
  },
  {
   "cell_type": "code",
   "execution_count": null,
   "id": "predict-spike-counts",
   "metadata": {},
   "outputs": [],
   "source": [
    "def predict_spike_counts_lg(stim, spikes, d=25):\n",
    "    \"\"\"Compute a vector of predicted spike counts given the stimulus.\"\"\"\n",
    "    y = spikes\n",
    "    constant = np.ones_like(y)\n",
    "    X = np.column_stack([constant, make_design_matrix(stim)])\n",
    "    theta = np.linalg.inv(X.T @ X) @ X.T @ y\n",
    "    yhat = X @ theta\n",
    "    return yhat"
   ]
  },
  {
   "cell_type": "code",
   "execution_count": null,
   "id": "plot-spikes",
   "metadata": {},
   "outputs": [],
   "source": [
    "def plot_spikes_with_prediction(spikes, predicted_counts, dt_stim):\n",
    "    \"\"\"Plot actual vs predicted spike counts.\"\"\"\n",
    "    time = np.arange(len(spikes)) * dt_stim\n",
    "    plt.figure(figsize=(15, 6))\n",
    "    plt.plot(time, spikes, label='Actual Spikes', marker='o', linestyle='None', markersize=4)\n",
    "    plt.plot(time, predicted_counts, label='Predicted Spikes', linestyle='-', linewidth=2)\n",
    "    plt.xlabel('Time (s)')\n",
    "    plt.ylabel('Spike Counts')\n",
    "    plt.title('Actual vs Predicted Spike Counts')\n",
    "    plt.legend()\n",
    "    plt.show()"
   ]
  },
  {
   "cell_type": "code",
   "execution_count": null,
   "id": "main",
   "metadata": {},
   "outputs": [],
   "source": [
    "def main():\n",
    "    # Download data\n",
    "    if not download_data(FNAME, URL, EXPECTED_MD5):\n",
    "        return\n",
    "\n",
    "    # Load data\n",
    "    data = loadmat(FNAME)\n",
    "    dt_stim = data['dtStim'].item()\n",
    "    stim = data['Stim'].squeeze()\n",
    "    spikes = data['SpCounts'][:, CELLNUM]\n",
    "\n",
    "    # Trim data to keep desired timepoints\n",
    "    stim = stim[:KEEP_TIMEPOINTS]\n",
    "    spikes = spikes[:KEEP_TIMEPOINTS]\n",
    "\n",
    "    # Predict spike counts\n",
    "    predicted_counts = predict_spike_counts_lg(stim, spikes)\n",
    "\n",
    "    # Visualize\n",
    "    plot_spikes_with_prediction(spikes, predicted_counts, dt_stim)\n",
    "\n",
    "# Run the main function\n",
    "main()"
   ]
  }
 ],
 "metadata": {
  "kernelspec": {
   "display_name": "Python 3",
   "language": "python",
   "name": "python3"
  },
  "language_info": {
   "codemirror_mode": {
    "name": "ipython",
    "version": 3
   },
   "file_extension": ".py",
   "mimetype": "text/x-python",
   "name": "python",
   "nbconvert_exporter": "python",
   "pygments_lexer": "ipython3",
   "version": "3.8.5"
  }
 },
 "nbformat": 4,
 "nbformat_minor": 5
}
